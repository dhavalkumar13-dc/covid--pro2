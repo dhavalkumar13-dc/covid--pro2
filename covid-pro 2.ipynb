{
 "cells": [
  {
   "cell_type": "code",
   "execution_count": 1,
   "id": "33119f21-552c-4842-aefc-dd05b7ad0302",
   "metadata": {},
   "outputs": [
    {
     "name": "stdout",
     "output_type": "stream",
     "text": [
      "Number of rows: 57394\n",
      "Number of columns: 49\n"
     ]
    }
   ],
   "source": [
    "import pandas as pd\n",
    "\n",
    "# Load the CSV file into a DataFrame\n",
    "df = pd.read_csv('covid-data.csv')\n",
    "\n",
    "\n",
    "# Get the number of rows and columns using .shape\n",
    "num_rows, num_cols = df.shape\n",
    "\n",
    "# Print the number of rows and columns\n",
    "print(f\"Number of rows: {num_rows}\")\n",
    "print(f\"Number of columns: {num_cols}\")\n"
   ]
  },
  {
   "cell_type": "code",
   "execution_count": 2,
   "id": "0b41539c-6362-4f5d-9273-a0c835b2349e",
   "metadata": {},
   "outputs": [
    {
     "name": "stdout",
     "output_type": "stream",
     "text": [
      "iso_code                               object\n",
      "continent                              object\n",
      "location                               object\n",
      "date                                   object\n",
      "total_cases                           float64\n",
      "new_cases                             float64\n",
      "new_cases_smoothed                    float64\n",
      "total_deaths                          float64\n",
      "new_deaths                            float64\n",
      "new_deaths_smoothed                   float64\n",
      "total_cases_per_million               float64\n",
      "new_cases_per_million                 float64\n",
      "new_cases_smoothed_per_million        float64\n",
      "total_deaths_per_million              float64\n",
      "new_deaths_per_million                float64\n",
      "new_deaths_smoothed_per_million       float64\n",
      "reproduction_rate                     float64\n",
      "icu_patients                          float64\n",
      "icu_patients_per_million              float64\n",
      "hosp_patients                         float64\n",
      "hosp_patients_per_million             float64\n",
      "weekly_icu_admissions                 float64\n",
      "weekly_icu_admissions_per_million     float64\n",
      "weekly_hosp_admissions                float64\n",
      "weekly_hosp_admissions_per_million    float64\n",
      "total_tests                           float64\n",
      "new_tests                             float64\n",
      "total_tests_per_thousand              float64\n",
      "new_tests_per_thousand                float64\n",
      "new_tests_smoothed                    float64\n",
      "new_tests_smoothed_per_thousand       float64\n",
      "tests_per_case                        float64\n",
      "positive_rate                         float64\n",
      "stringency_index                      float64\n",
      "population                            float64\n",
      "population_density                    float64\n",
      "median_age                            float64\n",
      "aged_65_older                         float64\n",
      "aged_70_older                         float64\n",
      "gdp_per_capita                        float64\n",
      "extreme_poverty                       float64\n",
      "cardiovasc_death_rate                 float64\n",
      "diabetes_prevalence                   float64\n",
      "female_smokers                        float64\n",
      "male_smokers                          float64\n",
      "handwashing_facilities                float64\n",
      "hospital_beds_per_thousand            float64\n",
      "life_expectancy                       float64\n",
      "human_development_index               float64\n",
      "dtype: object\n"
     ]
    }
   ],
   "source": [
    "# Get the data types of the columns\n",
    "column_data_types = df.dtypes\n",
    "\n",
    "# Print the column names and their data types\n",
    "print(column_data_types)\n",
    "  "
   ]
  },
  {
   "cell_type": "code",
   "execution_count": 3,
   "id": "bf1c6046-fdf6-4ba4-a283-d5ba70d7ea3e",
   "metadata": {},
   "outputs": [
    {
     "name": "stdout",
     "output_type": "stream",
     "text": [
      "--- DataFrame Info ---\n",
      "<class 'pandas.core.frame.DataFrame'>\n",
      "RangeIndex: 57394 entries, 0 to 57393\n",
      "Data columns (total 49 columns):\n",
      " #   Column                              Non-Null Count  Dtype  \n",
      "---  ------                              --------------  -----  \n",
      " 0   iso_code                            57071 non-null  object \n",
      " 1   continent                           56748 non-null  object \n",
      " 2   location                            57394 non-null  object \n",
      " 3   date                                57394 non-null  object \n",
      " 4   total_cases                         53758 non-null  float64\n",
      " 5   new_cases                           56465 non-null  float64\n",
      " 6   new_cases_smoothed                  55652 non-null  float64\n",
      " 7   total_deaths                        44368 non-null  float64\n",
      " 8   new_deaths                          56465 non-null  float64\n",
      " 9   new_deaths_smoothed                 55652 non-null  float64\n",
      " 10  total_cases_per_million             53471 non-null  float64\n",
      " 11  new_cases_per_million               56401 non-null  float64\n",
      " 12  new_cases_smoothed_per_million      55587 non-null  float64\n",
      " 13  total_deaths_per_million            44096 non-null  float64\n",
      " 14  new_deaths_per_million              56401 non-null  float64\n",
      " 15  new_deaths_smoothed_per_million     55587 non-null  float64\n",
      " 16  reproduction_rate                   37696 non-null  float64\n",
      " 17  icu_patients                        4490 non-null   float64\n",
      " 18  icu_patients_per_million            4490 non-null   float64\n",
      " 19  hosp_patients                       5005 non-null   float64\n",
      " 20  hosp_patients_per_million           5005 non-null   float64\n",
      " 21  weekly_icu_admissions               357 non-null    float64\n",
      " 22  weekly_icu_admissions_per_million   357 non-null    float64\n",
      " 23  weekly_hosp_admissions              645 non-null    float64\n",
      " 24  weekly_hosp_admissions_per_million  645 non-null    float64\n",
      " 25  total_tests                         22017 non-null  float64\n",
      " 26  new_tests                           21787 non-null  float64\n",
      " 27  total_tests_per_thousand            22017 non-null  float64\n",
      " 28  new_tests_per_thousand              21787 non-null  float64\n",
      " 29  new_tests_smoothed                  24612 non-null  float64\n",
      " 30  new_tests_smoothed_per_thousand     24612 non-null  float64\n",
      " 31  tests_per_case                      22802 non-null  float64\n",
      " 32  positive_rate                       23211 non-null  float64\n",
      " 33  stringency_index                    47847 non-null  float64\n",
      " 34  population                          57071 non-null  float64\n",
      " 35  population_density                  54371 non-null  float64\n",
      " 36  median_age                          51034 non-null  float64\n",
      " 37  aged_65_older                       50265 non-null  float64\n",
      " 38  aged_70_older                       50768 non-null  float64\n",
      " 39  gdp_per_capita                      50367 non-null  float64\n",
      " 40  extreme_poverty                     33571 non-null  float64\n",
      " 41  cardiovasc_death_rate               51013 non-null  float64\n",
      " 42  diabetes_prevalence                 52881 non-null  float64\n",
      " 43  female_smokers                      39669 non-null  float64\n",
      " 44  male_smokers                        39156 non-null  float64\n",
      " 45  handwashing_facilities              24176 non-null  float64\n",
      " 46  hospital_beds_per_thousand          45936 non-null  float64\n",
      " 47  life_expectancy                     56336 non-null  float64\n",
      " 48  human_development_index             49247 non-null  float64\n",
      "dtypes: float64(45), object(4)\n",
      "memory usage: 21.5+ MB\n",
      "\n",
      "--- Descriptive Statistics ---\n",
      "        total_cases      new_cases  new_cases_smoothed  total_deaths  \\\n",
      "count  5.375800e+04   56465.000000        55652.000000  4.436800e+04   \n",
      "mean   1.677974e+05    1953.576941         1920.431953  6.858639e+03   \n",
      "std    1.693038e+06   18269.650340        17777.391785  5.578081e+04   \n",
      "min    1.000000e+00   -8261.000000         -552.000000  1.000000e+00   \n",
      "25%    1.800000e+02       0.000000            0.857000  1.300000e+01   \n",
      "50%    2.070000e+03      14.000000           19.429000  8.400000e+01   \n",
      "75%    2.235675e+04     235.000000          245.286000  7.270000e+02   \n",
      "max    5.515465e+07  646281.000000       584981.857000  1.328537e+06   \n",
      "\n",
      "         new_deaths  new_deaths_smoothed  total_cases_per_million  \\\n",
      "count  56465.000000         55652.000000             53471.000000   \n",
      "mean      47.054317            46.835439              3139.099982   \n",
      "std      390.853776           378.272794              6183.455260   \n",
      "min    -1918.000000          -232.143000                 0.001000   \n",
      "25%        0.000000             0.000000                90.033000   \n",
      "50%        0.000000             0.286000               593.663000   \n",
      "75%        4.000000             4.000000              3487.050000   \n",
      "max    10600.000000          9027.714000             76541.772000   \n",
      "\n",
      "       new_cases_per_million  new_cases_smoothed_per_million  \\\n",
      "count           56401.000000                    55587.000000   \n",
      "mean               39.344804                       38.403211   \n",
      "std               133.985155                      101.649441   \n",
      "min             -2212.545000                     -269.978000   \n",
      "25%                 0.000000                        0.260000   \n",
      "50%                 2.194000                        3.863000   \n",
      "75%                25.941000                       29.678500   \n",
      "max              8652.658000                     2472.188000   \n",
      "\n",
      "       total_deaths_per_million  ...  gdp_per_capita  extreme_poverty  \\\n",
      "count              44096.000000  ...    50367.000000     33571.000000   \n",
      "mean                  95.335293  ...    20620.172071        12.435453   \n",
      "std                  180.721699  ...    20310.999832        19.427924   \n",
      "min                    0.000000  ...      661.240000         0.100000   \n",
      "25%                    3.977750  ...     5321.444000         0.500000   \n",
      "50%                   20.383000  ...    13913.839000         2.000000   \n",
      "75%                   90.571250  ...    31400.840000        18.100000   \n",
      "max                 1248.014000  ...   116935.600000        77.600000   \n",
      "\n",
      "       cardiovasc_death_rate  diabetes_prevalence  female_smokers  \\\n",
      "count           51013.000000         52881.000000    39669.000000   \n",
      "mean              252.646642             8.070269       10.741569   \n",
      "std               117.522344             4.189605       10.470743   \n",
      "min                79.370000             0.990000        0.100000   \n",
      "25%               156.139000             5.310000        1.900000   \n",
      "50%               238.339000             7.110000        6.400000   \n",
      "75%               318.991000            10.390000       19.600000   \n",
      "max               724.417000            30.530000       44.000000   \n",
      "\n",
      "       male_smokers  handwashing_facilities  hospital_beds_per_thousand  \\\n",
      "count  39156.000000            24176.000000                45936.000000   \n",
      "mean      32.642686               52.089636                    3.089724   \n",
      "std       13.453566               31.645306                    2.513193   \n",
      "min        7.700000                1.188000                    0.100000   \n",
      "25%       21.400000               21.222000                    1.300000   \n",
      "50%       31.400000               52.232000                    2.500000   \n",
      "75%       40.900000               83.741000                    4.200000   \n",
      "max       78.100000               98.999000                   13.800000   \n",
      "\n",
      "       life_expectancy  human_development_index  \n",
      "count     56336.000000             49247.000000  \n",
      "mean         73.937780                 0.722223  \n",
      "std           7.397016                 0.153261  \n",
      "min          53.280000                 0.354000  \n",
      "25%          69.870000                 0.601000  \n",
      "50%          75.345000                 0.752000  \n",
      "75%          79.380000                 0.847000  \n",
      "max          86.750000                 0.953000  \n",
      "\n",
      "[8 rows x 45 columns]\n"
     ]
    }
   ],
   "source": [
    "# Get info about the DataFrame\n",
    "print(\"--- DataFrame Info ---\")\n",
    "df.info()\n",
    "\n",
    "# Get descriptive statistics of the numerical columns\n",
    "print(\"\\n--- Descriptive Statistics ---\")\n",
    "print(df.describe())"
   ]
  },
  {
   "cell_type": "code",
   "execution_count": 4,
   "id": "8befc855-9f92-4b36-a80a-9cf0d7dd66bf",
   "metadata": {},
   "outputs": [
    {
     "name": "stdout",
     "output_type": "stream",
     "text": [
      "Number of unique locations: 216\n"
     ]
    }
   ],
   "source": [
    "# Find the number of unique values in the 'location' column\n",
    "unique_locations = df['location'].nunique()\n",
    "\n",
    "# Print the result\n",
    "print(f\"Number of unique locations: {unique_locations}\")"
   ]
  },
  {
   "cell_type": "code",
   "execution_count": 5,
   "id": "ef0de9a8-064b-470d-bae4-1e831663126c",
   "metadata": {},
   "outputs": [
    {
     "name": "stdout",
     "output_type": "stream",
     "text": [
      "The continent with the maximum frequency is: Europe\n"
     ]
    }
   ],
   "source": [
    "# Find the frequency of each continent and get the most frequent one\n",
    "most_frequent_continent = df['continent'].value_counts().index[0]\n",
    "\n",
    "# Print the result\n",
    "print(f\"The continent with the maximum frequency is: {most_frequent_continent}\")"
   ]
  },
  {
   "cell_type": "code",
   "execution_count": 6,
   "id": "7bf497bd-3779-4f9f-baa0-e32d3a10e161",
   "metadata": {},
   "outputs": [
    {
     "name": "stdout",
     "output_type": "stream",
     "text": [
      "Maximum total cases: 55154651.0\n",
      "Mean total cases: 167797.3688753302\n"
     ]
    }
   ],
   "source": [
    "# Find the maximum value in 'total_cases'\n",
    "max_cases = df['total_cases'].max()\n",
    "\n",
    "# Find the mean value in 'total_cases'\n",
    "mean_cases = df['total_cases'].mean()\n",
    "\n",
    "# Print the results\n",
    "print(f\"Maximum total cases: {max_cases}\")\n",
    "print(f\"Mean total cases: {mean_cases}\")"
   ]
  },
  {
   "cell_type": "code",
   "execution_count": 7,
   "id": "f5e9749a-4861-4951-8d53-ce7f214b6bd5",
   "metadata": {},
   "outputs": [
    {
     "name": "stdout",
     "output_type": "stream",
     "text": [
      "Quartiles for 'total_deaths':\n",
      "0.25     13.0\n",
      "0.50     84.0\n",
      "0.75    727.0\n",
      "Name: total_deaths, dtype: float64\n"
     ]
    }
   ],
   "source": [
    "# Find the 25%, 50%, and 75% quartiles for 'total_deaths'\n",
    "quartiles = df['total_deaths'].quantile([0.25, 0.5, 0.75])\n",
    "\n",
    "# Print the results\n",
    "print(\"Quartiles for 'total_deaths':\")\n",
    "print(quartiles)"
   ]
  },
  {
   "cell_type": "code",
   "execution_count": 8,
   "id": "0fef52cf-589c-4f93-85d8-3187ea4bdc4c",
   "metadata": {},
   "outputs": [
    {
     "name": "stdout",
     "output_type": "stream",
     "text": [
      "The continent with the minimum 'gdp_per_capita' is: Africa\n",
      "The minimum 'gdp_per_capita' value is: 661.24\n"
     ]
    }
   ],
   "source": [
    "# Group by continent and find the minimum 'gdp_per_capita' for each group\n",
    "min_gdp_by_continent = df.groupby('continent')['gdp_per_capita'].min()\n",
    "\n",
    "# Find the continent with the overall minimum 'gdp_per_capita'\n",
    "continent_with_min_gdp = min_gdp_by_continent.idxmin()\n",
    "min_gdp_value = min_gdp_by_continent.min()\n",
    "\n",
    "# Print the result\n",
    "print(f\"The continent with the minimum 'gdp_per_capita' is: {continent_with_min_gdp}\")\n",
    "print(f\"The minimum 'gdp_per_capita' value is: {min_gdp_value}\")"
   ]
  },
  {
   "cell_type": "code",
   "execution_count": 9,
   "id": "2dfc6503-e18f-4ff7-b621-f329ae2d11d8",
   "metadata": {},
   "outputs": [
    {
     "name": "stdout",
     "output_type": "stream",
     "text": [
      "The DataFrame has been updated with the following columns:\n",
      "Index(['continent', 'location', 'date', 'total_cases', 'total_deaths',\n",
      "       'gdp_per_capita', 'human_development_index'],\n",
      "      dtype='object')\n"
     ]
    }
   ],
   "source": [
    "# Define the list of columns to keep\n",
    "columns_to_keep = ['continent', 'location', 'date', 'total_cases', 'total_deaths', 'gdp_per_capita', 'human_development_index']\n",
    "\n",
    "# Filter the DataFrame to keep only the specified columns and update it\n",
    "df = df[columns_to_keep]\n",
    "\n",
    "# Print the columns of the new DataFrame to confirm the change\n",
    "print(\"The DataFrame has been updated with the following columns:\")\n",
    "print(df.columns)"
   ]
  },
  {
   "cell_type": "code",
   "execution_count": 10,
   "id": "bee22aa1-71da-492d-84d0-66616cdccb50",
   "metadata": {},
   "outputs": [
    {
     "name": "stdout",
     "output_type": "stream",
     "text": [
      "--- Part a: Removing duplicate rows ---\n",
      "Number of rows before removing duplicates: 57394\n",
      "Number of rows after removing duplicates: 57394\n",
      "Number of duplicates removed: 0\n",
      "\n",
      "--- Part b: Missing values count before removal and filling ---\n",
      "continent                    646\n",
      "location                       0\n",
      "date                           0\n",
      "total_cases                 3636\n",
      "total_deaths               13026\n",
      "gdp_per_capita              7027\n",
      "human_development_index     8147\n",
      "dtype: int64\n",
      "\n",
      "--- Part c: Removing rows with missing 'continent' values ---\n",
      "Number of rows after removing rows with missing continent values: 56748\n",
      "\n",
      "Missing values after removing continent rows:\n",
      "continent                      0\n",
      "location                       0\n",
      "date                           0\n",
      "total_cases                 3600\n",
      "total_deaths               12964\n",
      "gdp_per_capita              6704\n",
      "human_development_index     7501\n",
      "dtype: int64\n",
      "\n",
      "--- Part d: Filling all remaining missing values with 0 ---\n",
      "\n",
      "Missing values count after filling with 0:\n",
      "continent                  0\n",
      "location                   0\n",
      "date                       0\n",
      "total_cases                0\n",
      "total_deaths               0\n",
      "gdp_per_capita             0\n",
      "human_development_index    0\n",
      "dtype: int64\n",
      "\n",
      "--- Head of the cleaned and processed DataFrame ---\n",
      "  continent     location      date  total_cases  total_deaths  gdp_per_capita  \\\n",
      "0      Asia  Afghanistan  31/12/19          0.0           0.0        1803.987   \n",
      "1      Asia  Afghanistan  01/01/20          0.0           0.0        1803.987   \n",
      "2      Asia  Afghanistan  02/01/20          0.0           0.0        1803.987   \n",
      "3      Asia  Afghanistan  03/01/20          0.0           0.0        1803.987   \n",
      "4      Asia  Afghanistan  04/01/20          0.0           0.0        1803.987   \n",
      "\n",
      "   human_development_index  \n",
      "0                    0.498  \n",
      "1                    0.498  \n",
      "2                    0.498  \n",
      "3                    0.498  \n",
      "4                    0.498  \n"
     ]
    }
   ],
   "source": [
    "# Part a: Remove all duplicates observations\n",
    "print(\"--- Part a: Removing duplicate rows ---\")\n",
    "initial_rows = df.shape[0]\n",
    "df.drop_duplicates(inplace=True)\n",
    "rows_after_duplicates = df.shape[0]\n",
    "print(f\"Number of rows before removing duplicates: {initial_rows}\")\n",
    "print(f\"Number of rows after removing duplicates: {rows_after_duplicates}\")\n",
    "print(f\"Number of duplicates removed: {initial_rows - rows_after_duplicates}\")\n",
    "\n",
    "# Part b: Find missing values in all columns\n",
    "print(\"\\n--- Part b: Missing values count before removal and filling ---\")\n",
    "missing_values_before = df.isnull().sum()\n",
    "print(missing_values_before)\n",
    "\n",
    "# Part c: Remove all observations where 'continent' column value is missing\n",
    "print(\"\\n--- Part c: Removing rows with missing 'continent' values ---\")\n",
    "df.dropna(subset=['continent'], inplace=True)\n",
    "print(f\"Number of rows after removing rows with missing continent values: {df.shape[0]}\")\n",
    "print(\"\\nMissing values after removing continent rows:\")\n",
    "print(df.isnull().sum())\n",
    "\n",
    "# Part d: Fill all missing values with 0\n",
    "print(\"\\n--- Part d: Filling all remaining missing values with 0 ---\")\n",
    "df.fillna(0, inplace=True)\n",
    "print(\"\\nMissing values count after filling with 0:\")\n",
    "print(df.isnull().sum())\n",
    "\n",
    "# Display a sample of the cleaned data\n",
    "print(\"\\n--- Head of the cleaned and processed DataFrame ---\")\n",
    "print(df.head())"
   ]
  },
  {
   "cell_type": "code",
   "execution_count": 11,
   "id": "14dbbc72-a167-4b47-b587-a6779e6280f6",
   "metadata": {},
   "outputs": [
    {
     "name": "stdout",
     "output_type": "stream",
     "text": [
      "--- First 5 rows of the DataFrame with new columns ---\n",
      "        date  month\n",
      "0 2019-12-31     12\n",
      "1 2020-01-01      1\n",
      "2 2020-01-02      1\n",
      "3 2020-01-03      1\n",
      "4 2020-01-04      1\n",
      "\n",
      "--- Data types of 'date' and 'month' columns ---\n",
      "<class 'pandas.core.frame.DataFrame'>\n",
      "Index: 56748 entries, 0 to 56747\n",
      "Data columns (total 2 columns):\n",
      " #   Column  Non-Null Count  Dtype         \n",
      "---  ------  --------------  -----         \n",
      " 0   date    56748 non-null  datetime64[ns]\n",
      " 1   month   56748 non-null  int32         \n",
      "dtypes: datetime64[ns](1), int32(1)\n",
      "memory usage: 1.1 MB\n",
      "None\n"
     ]
    }
   ],
   "source": [
    "# Convert the 'date' column to datetime format\n",
    "df['date'] = pd.to_datetime(df['date'], format='%d/%m/%y')\n",
    "\n",
    "# Create a new column 'month' by extracting the month from the 'date' column\n",
    "df['month'] = df['date'].dt.month\n",
    "\n",
    "# Display the first few rows to show the new columns and data types\n",
    "print(\"--- First 5 rows of the DataFrame with new columns ---\")\n",
    "print(df[['date', 'month']].head())\n",
    "\n",
    "# Display the data types to confirm the conversion\n",
    "print(\"\\n--- Data types of 'date' and 'month' columns ---\")\n",
    "print(df[['date', 'month']].info())"
   ]
  },
  {
   "cell_type": "code",
   "execution_count": 12,
   "id": "5a2055e5-b4ba-467a-a1a2-46c16b51d7e1",
   "metadata": {},
   "outputs": [
    {
     "name": "stdout",
     "output_type": "stream",
     "text": [
      "--- Resulting DataFrame 'df_groupby' ---\n",
      "       continent                      location       date  total_cases  \\\n",
      "0         Africa                      Zimbabwe 2020-11-17     752269.0   \n",
      "1           Asia                         Yemen 2020-11-17    8874290.0   \n",
      "2         Europe                       Vatican 2020-11-17    1991233.0   \n",
      "3  North America  United States Virgin Islands 2020-11-17   11205486.0   \n",
      "4        Oceania             Wallis and Futuna 2020-11-17      27750.0   \n",
      "\n",
      "   total_deaths  gdp_per_capita  human_development_index  month  \n",
      "0       20314.0       26382.287                    0.797     12  \n",
      "1      130519.0      116935.600                    0.933     12  \n",
      "2       52147.0       94277.965                    0.953     12  \n",
      "3      247220.0       54225.446                    0.926     12  \n",
      "4         907.0       44648.710                    0.939     12  \n"
     ]
    }
   ],
   "source": [
    "# Group the DataFrame by 'continent' and find the maximum value for each column\n",
    "df_groupby = df.groupby('continent').max().reset_index()\n",
    "\n",
    "# Display the first few rows of the new DataFrame to show the result\n",
    "print(\"--- Resulting DataFrame 'df_groupby' ---\")\n",
    "print(df_groupby.head())"
   ]
  },
  {
   "cell_type": "code",
   "execution_count": 13,
   "id": "e9ca1814-b4d0-4c72-8158-8b17b707aa36",
   "metadata": {},
   "outputs": [
    {
     "name": "stdout",
     "output_type": "stream",
     "text": [
      "--- First 5 rows with the new column 'total_deaths_to_total_cases' ---\n",
      "   total_deaths  total_cases  total_deaths_to_total_cases\n",
      "0           0.0          NaN                          0.0\n",
      "1           0.0          NaN                          0.0\n",
      "2           0.0          NaN                          0.0\n",
      "3           0.0          NaN                          0.0\n",
      "4           0.0          NaN                          0.0\n",
      "\n",
      "--- DataFrame Info ---\n",
      "<class 'pandas.core.frame.DataFrame'>\n",
      "Index: 56748 entries, 0 to 56747\n",
      "Data columns (total 9 columns):\n",
      " #   Column                       Non-Null Count  Dtype         \n",
      "---  ------                       --------------  -----         \n",
      " 0   continent                    56748 non-null  object        \n",
      " 1   location                     56748 non-null  object        \n",
      " 2   date                         56748 non-null  datetime64[ns]\n",
      " 3   total_cases                  53148 non-null  float64       \n",
      " 4   total_deaths                 56748 non-null  float64       \n",
      " 5   gdp_per_capita               56748 non-null  float64       \n",
      " 6   human_development_index      56748 non-null  float64       \n",
      " 7   month                        56748 non-null  int32         \n",
      " 8   total_deaths_to_total_cases  56748 non-null  float64       \n",
      "dtypes: datetime64[ns](1), float64(5), int32(1), object(2)\n",
      "memory usage: 4.1+ MB\n"
     ]
    }
   ],
   "source": [
    "import numpy as np\n",
    "# Handle division by zero by replacing 0s in 'total_cases' with NaN\n",
    "# This is a safer approach than replacing with 1 as it doesn't skew the ratio.\n",
    "# We will then fill the NaNs in the new column with 0\n",
    "df['total_cases'] = df['total_cases'].replace(0, np.nan)\n",
    "\n",
    "# Create the new feature 'total_deaths_to_total_cases'\n",
    "df['total_deaths_to_total_cases'] = df['total_deaths'] / df['total_cases']\n",
    "\n",
    "# Fill any NaN values in the new column with 0\n",
    "df['total_deaths_to_total_cases'] = df['total_deaths_to_total_cases'].fillna(0)\n",
    "\n",
    "# Display the first few rows to show the new column\n",
    "print(\"--- First 5 rows with the new column 'total_deaths_to_total_cases' ---\")\n",
    "print(df[['total_deaths', 'total_cases', 'total_deaths_to_total_cases']].head())\n",
    "\n",
    "# Display the data types and column list to confirm the new column has been added\n",
    "print(\"\\n--- DataFrame Info ---\")\n",
    "df.info()"
   ]
  },
  {
   "cell_type": "code",
   "execution_count": 21,
   "id": "179a489c-8d4a-4c07-9419-289132d70ab1",
   "metadata": {},
   "outputs": [
    {
     "data": {
      "text/plain": [
       "<Figure size 1000x600 with 0 Axes>"
      ]
     },
     "metadata": {},
     "output_type": "display_data"
    },
    {
     "data": {
      "text/plain": [
       "<Figure size 1200x800 with 0 Axes>"
      ]
     },
     "metadata": {},
     "output_type": "display_data"
    },
    {
     "data": {
      "text/plain": [
       "<Figure size 1152x1000 with 0 Axes>"
      ]
     },
     "metadata": {},
     "output_type": "display_data"
    },
    {
     "data": {
      "text/plain": [
       "<Figure size 1200x800 with 0 Axes>"
      ]
     },
     "metadata": {},
     "output_type": "display_data"
    }
   ],
   "source": [
    "\n",
    "import seaborn as sns\n",
    "import matplotlib.pyplot as plt\n",
    "\n",
    "\n",
    "# --- Plot a. Univariate analysis on 'gdp_per_capita' using a histogram ---\n",
    "plt.figure(figsize=(10, 6))\n",
    "sns.histplot(data=df, x='gdp_per_capita', kde=True, bins=20)\n",
    "plt.title('Distribution of GDP per Capita', fontsize=16)\n",
    "plt.xlabel('GDP per Capita', fontsize=12)\n",
    "plt.ylabel('Frequency', fontsize=12)\n",
    "plt.savefig('gdp_per_capita_histogram.png')\n",
    "plt.clf()\n",
    "\n",
    "# --- Plot b. Scatter plot of 'total_cases' & 'gdp_per_capita' ---\n",
    "plt.figure(figsize=(12, 8))\n",
    "sns.scatterplot(data=df, x='gdp_per_capita', y='total_cases')\n",
    "plt.title('Total Cases vs. GDP per Capita', fontsize=16)\n",
    "plt.xlabel('GDP per Capita', fontsize=12)\n",
    "plt.ylabel('Total Cases', fontsize=12)\n",
    "plt.savefig('total_cases_vs_gdp.png')\n",
    "plt.clf()\n",
    "\n",
    "# --- Plot c. Pairplot on df_groupby dataset ---\n",
    "# First, recreate the df_groupby as it was not created in the last run.\n",
    "df_groupby = df.groupby('continent').max().reset_index()\n",
    "\n",
    "# Select a subset of numeric columns for the pairplot to avoid an overly complex plot\n",
    "numeric_cols = ['total_cases', 'total_deaths', 'gdp_per_capita', 'human_development_index']\n",
    "df_subset = df_groupby[['continent'] + numeric_cols]\n",
    "\n",
    "sns.pairplot(df_subset, hue='continent')\n",
    "plt.savefig('pairplot_df_groupby.png')\n",
    "plt.clf()\n",
    "\n",
    "# --- Plot d. Bar plot of 'continent' column with 'total_cases' ---\n",
    "plt.figure(figsize=(12, 8))\n",
    "\n",
    "# Sort the data for a better visual representation\n",
    "df_sorted = df.groupby('continent')['total_cases'].sum().reset_index().sort_values('total_cases', ascending=False)\n",
    "sns.barplot(data=df_sorted, x='continent', y='total_cases', hue='continent', palette='viridis', legend=False)\n",
    "plt.title('Total Cases by Continent', fontsize=16)\n",
    "plt.xlabel('Continent', fontsize=12)\n",
    "plt.ylabel('Total Cases', fontsize=12)\n",
    "plt.xticks(rotation=45, ha='right')\n",
    "plt.tight_layout()\n",
    "plt.savefig('total_cases_by_continent.png')\n",
    "plt.clf()"
   ]
  },
  {
   "cell_type": "code",
   "execution_count": 16,
   "id": "96832906-7c53-4873-aba6-ee7a19430fc5",
   "metadata": {},
   "outputs": [
    {
     "data": {
      "text/plain": [
       "<Figure size 1000x600 with 0 Axes>"
      ]
     },
     "metadata": {},
     "output_type": "display_data"
    },
    {
     "data": {
      "text/plain": [
       "<Figure size 1200x800 with 0 Axes>"
      ]
     },
     "metadata": {},
     "output_type": "display_data"
    },
    {
     "data": {
      "text/plain": [
       "<Figure size 1152x1000 with 0 Axes>"
      ]
     },
     "metadata": {},
     "output_type": "display_data"
    },
    {
     "data": {
      "text/plain": [
       "<Figure size 1200x800 with 0 Axes>"
      ]
     },
     "metadata": {},
     "output_type": "display_data"
    },
    {
     "data": {
      "text/plain": [
       "<Figure size 500x500 with 0 Axes>"
      ]
     },
     "metadata": {},
     "output_type": "display_data"
    }
   ],
   "source": [
    "# --- Plot a. Univariate analysis on 'gdp_per_capita' using a histogram ---\n",
    "plt.figure(figsize=(10, 6))\n",
    "sns.histplot(data=df, x='gdp_per_capita', kde=True, bins=20)\n",
    "plt.title('Distribution of GDP per Capita', fontsize=16)\n",
    "plt.xlabel('GDP per Capita', fontsize=12)\n",
    "plt.ylabel('Frequency', fontsize=12)\n",
    "plt.savefig('gdp_per_capita_histogram.png')\n",
    "plt.clf()\n",
    "\n",
    "# --- Plot b. Scatter plot of 'total_cases' & 'gdp_per_capita' ---\n",
    "plt.figure(figsize=(12, 8))\n",
    "sns.scatterplot(data=df, x='gdp_per_capita', y='total_cases')\n",
    "plt.title('Total Cases vs. GDP per Capita', fontsize=16)\n",
    "plt.xlabel('GDP per Capita', fontsize=12)\n",
    "plt.ylabel('Total Cases', fontsize=12)\n",
    "plt.savefig('total_cases_vs_gdp.png')\n",
    "plt.clf()\n",
    "\n",
    "# --- Plot c. Pairplot on df_groupby dataset ---\n",
    "# First, recreate the df_groupby as it was not created in the last run.\n",
    "df_groupby = df.groupby('continent').max().reset_index()\n",
    "\n",
    "# Select a subset of numeric columns for the pairplot to avoid an overly complex plot\n",
    "numeric_cols = ['total_cases', 'total_deaths', 'gdp_per_capita', 'human_development_index']\n",
    "df_subset = df_groupby[['continent'] + numeric_cols]\n",
    "\n",
    "pairplot_fig = sns.pairplot(df_subset, hue='continent')\n",
    "pairplot_fig.savefig('pairplot_df_groupby.png')\n",
    "plt.clf()\n",
    "\n",
    "# --- Plot d. Bar plot of 'continent' column with 'total_cases' ---\n",
    "# Group data by continent and sum 'total_cases'\n",
    "df_total_cases = df.groupby('continent')['total_cases'].sum().reset_index()\n",
    "# Sort the data for better visual representation\n",
    "df_total_cases = df_total_cases.sort_values(by='total_cases', ascending=False)\n",
    "\n",
    "# Plot using sns.catplot\n",
    "plt.figure(figsize=(12, 8))\n",
    "catplot = sns.catplot(x='continent', y='total_cases', kind='bar', data=df_total_cases, legend=False)\n",
    "catplot.set_axis_labels(\"Continent\", \"Total Cases\")\n",
    "catplot.fig.suptitle('Total Cases by Continent', y=1.03)\n",
    "catplot.fig.tight_layout()\n",
    "catplot.savefig('total_cases_by_continent.png')\n",
    "plt.clf()"
   ]
  },
  {
   "cell_type": "code",
   "execution_count": 17,
   "id": "785dc737-03c0-4d62-a9a4-1a2a61ed0a36",
   "metadata": {},
   "outputs": [
    {
     "data": {
      "text/plain": [
       "<Figure size 1000x600 with 0 Axes>"
      ]
     },
     "metadata": {},
     "output_type": "display_data"
    },
    {
     "data": {
      "text/plain": [
       "<Figure size 1200x800 with 0 Axes>"
      ]
     },
     "metadata": {},
     "output_type": "display_data"
    },
    {
     "data": {
      "text/plain": [
       "<Figure size 1152x1000 with 0 Axes>"
      ]
     },
     "metadata": {},
     "output_type": "display_data"
    },
    {
     "data": {
      "text/plain": [
       "<Figure size 1200x800 with 0 Axes>"
      ]
     },
     "metadata": {},
     "output_type": "display_data"
    }
   ],
   "source": [
    "import pandas as pd\n",
    "import seaborn as sns\n",
    "import matplotlib.pyplot as plt\n",
    "\n",
    "# Load the CSV file into a DataFrame\n",
    "df = pd.read_csv('covid-data.csv')\n",
    "\n",
    "# --- Plot a. Univariate analysis on 'gdp_per_capita' using a histogram ---\n",
    "plt.figure(figsize=(10, 6))\n",
    "sns.histplot(data=df, x='gdp_per_capita', kde=True, bins=20)\n",
    "plt.title('Distribution of GDP per Capita', fontsize=16)\n",
    "plt.xlabel('GDP per Capita', fontsize=12)\n",
    "plt.ylabel('Frequency', fontsize=12)\n",
    "plt.savefig('gdp_per_capita_histogram.png')\n",
    "plt.clf()\n",
    "\n",
    "# --- Plot b. Scatter plot of 'total_cases' & 'gdp_per_capita' ---\n",
    "plt.figure(figsize=(12, 8))\n",
    "sns.scatterplot(data=df, x='gdp_per_capita', y='total_cases')\n",
    "plt.title('Total Cases vs. GDP per Capita', fontsize=16)\n",
    "plt.xlabel('GDP per Capita', fontsize=12)\n",
    "plt.ylabel('Total Cases', fontsize=12)\n",
    "plt.savefig('total_cases_vs_gdp.png')\n",
    "plt.clf()\n",
    "\n",
    "# --- Plot c. Pairplot on df_groupby dataset ---\n",
    "# First, recreate the df_groupby as it was not created in the last run.\n",
    "df_groupby = df.groupby('continent').max().reset_index()\n",
    "\n",
    "# Select a subset of numeric columns for the pairplot to avoid an overly complex plot\n",
    "numeric_cols = ['total_cases', 'total_deaths', 'gdp_per_capita', 'human_development_index']\n",
    "df_subset = df_groupby[['continent'] + numeric_cols]\n",
    "\n",
    "pairplot_fig = sns.pairplot(df_subset, hue='continent')\n",
    "pairplot_fig.savefig('pairplot_df_groupby.png')\n",
    "plt.clf()\n",
    "\n",
    "# --- Plot d. Bar plot of 'continent' column with 'total_cases' ---\n",
    "# Group data by continent and sum 'total_cases'\n",
    "df_total_cases = df.groupby('continent')['total_cases'].sum().reset_index()\n",
    "\n",
    "# Sort the data for better visual representation\n",
    "df_total_cases = df_total_cases.sort_values(by='total_cases', ascending=False)\n",
    "\n",
    "plt.figure(figsize=(12, 8))\n",
    "sns.barplot(data=df_total_cases, x='continent', y='total_cases')\n",
    "plt.title('Total Cases by Continent', fontsize=16)\n",
    "plt.xlabel('Continent', fontsize=12)\n",
    "plt.ylabel('Total Cases', fontsize=12)\n",
    "plt.xticks(rotation=45, ha='right')\n",
    "plt.tight_layout()\n",
    "plt.savefig('total_cases_by_continent.png')\n",
    "plt.clf()"
   ]
  },
  {
   "cell_type": "code",
   "execution_count": 18,
   "id": "6c5be45e-e6b8-499f-915f-4538f1e1123f",
   "metadata": {},
   "outputs": [
    {
     "name": "stdout",
     "output_type": "stream",
     "text": [
      "The 'df_groupby' DataFrame has been successfully saved to 'df_groupby.csv'\n"
     ]
    }
   ],
   "source": [
    "# Recreate the df_groupby dataframe\n",
    "df_groupby = df.groupby('continent').max().reset_index()\n",
    "\n",
    "# Save the DataFrame to a CSV file\n",
    "df_groupby.to_csv('df_groupby.csv', index=False)\n",
    "\n",
    "print(\"The 'df_groupby' DataFrame has been successfully saved to 'df_groupby.csv'\")"
   ]
  },
  {
   "cell_type": "code",
   "execution_count": null,
   "id": "c683a458-8309-4e5e-8a8e-569954298609",
   "metadata": {},
   "outputs": [],
   "source": []
  }
 ],
 "metadata": {
  "kernelspec": {
   "display_name": "Python [conda env:base] *",
   "language": "python",
   "name": "conda-base-py"
  },
  "language_info": {
   "codemirror_mode": {
    "name": "ipython",
    "version": 3
   },
   "file_extension": ".py",
   "mimetype": "text/x-python",
   "name": "python",
   "nbconvert_exporter": "python",
   "pygments_lexer": "ipython3",
   "version": "3.13.5"
  }
 },
 "nbformat": 4,
 "nbformat_minor": 5
}
